{
 "cells": [
  {
   "cell_type": "markdown",
   "id": "3103697d",
   "metadata": {},
   "source": [
    "## Dynamic Programming"
   ]
  },
  {
   "cell_type": "markdown",
   "id": "86eac1ae",
   "metadata": {},
   "source": [
    "#### Download necessary modules"
   ]
  },
  {
   "cell_type": "code",
   "execution_count": null,
   "id": "a6566308",
   "metadata": {},
   "outputs": [],
   "source": [
    "import pandas as pd\n",
    "import numpy as np\n",
    "from sklearn.model_selection import train_test_split\n",
    "from sklearn.preprocessing import StandardScaler\n",
    "from sklearn.linear_model import LogisticRegression"
   ]
  },
  {
   "cell_type": "markdown",
   "id": "db2f9f35",
   "metadata": {},
   "source": [
    "#### Predicting hourly demand based on 2018 data"
   ]
  },
  {
   "cell_type": "code",
   "execution_count": null,
   "id": "62be6600",
   "metadata": {},
   "outputs": [],
   "source": [
    "# Load cleaned data (2018)\n",
    "rideData2018 = pd.read_csv(\"wait_times.csv\")"
   ]
  },
  {
   "cell_type": "code",
   "execution_count": null,
   "id": "3212154e",
   "metadata": {},
   "outputs": [],
   "source": [
    "# Use actual average wait times\n",
    "rideData2018 = rideData2018[['wait_hour', 'attraction_name', 'wait_minutes_actual_avg', 'attraction_duration']]\n",
    "\n",
    "# Group by ride & hour\n",
    "agg = rideData2018.groupby(['wait_hour', 'attraction_name'], as_index=False).mean()\n",
    "\n",
    "# Build wait_table\n",
    "wait_table = {}\n",
    "for _, row in agg.iterrows():\n",
    "    hour = int(row['wait_hour'])\n",
    "    ride = row['attraction_name']\n",
    "    wait = row['wait_minutes_actual_avg']\n",
    "    if hour not in wait_table:\n",
    "        wait_table[hour] = {}\n",
    "    wait_table[hour][ride] = wait\n",
    "\n",
    "# Build ride_time dict (average duration per ride)\n",
    "ride_time = rideData2018.groupby('attraction_name')['attraction_duration'].mean().to_dict()\n",
    "\n",
    "print(\"Wait table sample:\", list(wait_table.items())[:3])\n",
    "print(\"Ride times:\", list(ride_time.items())[:5])"
   ]
  }
 ],
 "metadata": {
  "kernelspec": {
   "display_name": "new",
   "language": "python",
   "name": "python3"
  },
  "language_info": {
   "name": "python",
   "version": "3.12.8"
  }
 },
 "nbformat": 4,
 "nbformat_minor": 5
}
